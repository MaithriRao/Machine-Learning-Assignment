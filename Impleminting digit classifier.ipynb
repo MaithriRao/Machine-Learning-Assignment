{
 "cells": [
  {
   "cell_type": "markdown",
   "metadata": {
    "id": "4NzyqehHjUlG"
   },
   "source": [
    "# ML in Cybersecurity: Task I\n",
    "\n",
    "\n",
    "  \n",
    "## About this task\n",
    "In this task, you'll implement a digit classifier, based on the popular [MNIST](http://yann.lecun.com/exdb/mnist/) dataset. The dataset is based on a seminal [paper](http://yann.lecun.com/exdb/publis/pdf/lecun-01a.pdf), which immensely popularized (convolutional) neural networks. This is a great starting point for ML research and this dataset/model has been a stepping stone numerous other tasks such as [GANs](https://papers.nips.cc/paper/5423-generative-adversarial-nets.pdf), [Adversarial Perturbations](https://arxiv.org/abs/1412.6572) and so many more!\n",
    "\n",
    "This dataset consists of data $\\mathcal{D} = \\{x_i, y_i\\}_{i=1}^N$, where $x_i$ is a 28x28 pixel grayscale image and $y_i$ is a scalar represeting digits between 0-9. The notebook will guide you to load this data, implement classifiers $\\hat{y_i} = f_w(x_i)$  and analyze results. By doing so, you'll have a ML model that works on real data!\n",
    "\n",
    "To put things into context, have a look at Slide 21 in the [second](https://cms.cispa.saarland/mlcysec19/dl/4/2019-10-24-ml.pdf) lecture. Within this framework, the following blocks of this task are fixed:\n",
    "  * *Real-world problem*: Digit classification\n",
    "  * *Performance metric*: Mean accuracy i.e., $ \\frac{1}{N} \\sum_{i=1}^N \\mathbb{1}[\\hat{y_i} = y_i]$, where $\\mathbb{1}[\\hat{y_i} = y_i]$ is 1 if your model predicted the right digit for the $i$-th digit and 0 otherwise.\n",
    "  * *Data*: The MNIST dataset\n",
    "\n",
    "You'll make the the following design-choices:\n",
    " * *Choice of Model*: A model family (Non-parametric methods, Linear classifiers, Neural Networks, etc.)\n",
    " * *ML Model*: Specific model (e.g., SVM with a polynomial kernel)\n",
    " * *Loss/Risk*\n",
    " * *Optimization*\n",
    "\n",
    "\n",
    "## A Note on Grading\n",
    "The grading for this task will depend on:\n",
    " 1. Functional digit classifier\n",
    "   * Following a well-defined ML pipeline\n",
    "   * Developing 3 classification models (keep them diverse and ideally of increasing complexity)\n",
    "   * Obtaining reasonable accuracies (>80%) on a held-out test set\n",
    " 1. Analysis\n",
    "   * Which methods work better than the rest and why?\n",
    "   * Which hyper-parameters and design-choices were important in each of your methods?\n",
    "   * Quantifying influence of these hyper-parameters on loss and/or validation accuracies\n",
    "   * Trade-offs between methods, hyper-parameters, design-choices\n",
    "    * Anything else you find interesting (this part is open-ended)\n",
    "  \n",
    " A note on (1.): \n",
    "  * Choose your models that aids good insights. We require at least one non-Neural Network (e.g., SVM, KNN) and one Neural Network model (e.g., MLP, CNN).\n",
    "  * We definitely don't expect all three models to achieve >99% test accuracies!\n",
    "\n",
    "## Grading Details\n",
    " * 5 points for loading and visualization \n",
    " * 25x3 points for models. Per model:\n",
    "   * 4 points for written description \n",
    "   * 7 points for implementation\n",
    "   * 7 points for evaluation\n",
    "   * 7 points for summary\n",
    " * 15 points for final summary (Section 3)\n",
    " * 5 points for clean code\n",
    " \n",
    "## Filling-in the Notebook\n",
    "You'll be submitting this very notebook that is filled-in with your code and analysis. Make sure you submit one that has been previously executed in-order. (So that results/graphs are already visible upon opening it). \n",
    "\n",
    "The notebook you submit **should compile** (or should be self-contained and sufficiently commented). Check tutorial 1 on how to set up the Python3 environment.\n",
    "\n",
    "\n",
    "**The notebook is your task report. So, to make the report readable, omit code for techniques/models/things that did not work. You can use final summary to provide report about these codes.**\n",
    "\n",
    "It is extremely important that you **do not** re-order the existing sections. Apart from that, the code blocks that you need to fill-in are given by:\n",
    "```\n",
    "#\n",
    "#\n",
    "# ------- Your Code -------\n",
    "#\n",
    "#\n",
    "```\n",
    "Feel free to break this into multiple-cells. It's even better if you interleave explanations and code-blocks so that the entire notebook forms a readable \"story\".\n",
    "\n",
    "\n",
    "## Code of Honor\n",
    "We encourage discussing ideas and concepts with other students to help you learn and better understand the course content. However, the work you submit and present **must be original** and demonstrate your effort in solving the presented problems. **We will not tolerate** blatantly using existing solutions (such as from the internet), improper collaboration (e.g., sharing code or experimental data between groups) and plagiarism. If the honor code is not met, no points will be awarded.\n",
    "\n",
    " \n",
    " ## Versions\n",
    "  * v2.0: Added pytorch\n",
    "  * v1.1: Added Code of Honor\n",
    "  * v1.0: Initial notebook\n",
    "  \n",
    "  ---"
   ]
  },
  {
   "cell_type": "code",
   "execution_count": 117,
   "metadata": {
    "id": "3ewNwfFvbFaR"
   },
   "outputs": [],
   "source": [
    "import time \n",
    " \n",
    "import numpy as np \n",
    "import matplotlib.pyplot as plt \n",
    "\n",
    "import json \n",
    "import time \n",
    "import pickle \n",
    "import sys \n",
    "import csv \n",
    "import os \n",
    "import os.path as osp \n",
    "import shutil \n",
    "\n",
    "import pandas as pd\n",
    "\n",
    "from IPython.display import display, HTML\n",
    "\n",
    " \n",
    "%matplotlib inline \n",
    "plt.rcParams['figure.figsize'] = (10.0, 8.0) # set default size of plots \n",
    "plt.rcParams['image.interpolation'] = 'nearest' \n",
    "plt.rcParams['image.cmap'] = 'gray' \n",
    " \n",
    "# for auto-reloading external modules \n",
    "# see http://stackoverflow.com/questions/1907993/autoreload-of-modules-in-ipython \n",
    "%load_ext autoreload\n",
    "%autoreload 2"
   ]
  },
  {
   "cell_type": "code",
   "execution_count": 118,
   "metadata": {
    "colab": {
     "base_uri": "https://localhost:8080/"
    },
    "id": "640GrzbOevr0",
    "outputId": "6c5a78fa-9277-4bb0-a733-0fcfa9c34901"
   },
   "outputs": [
    {
     "data": {
      "text/plain": [
       "<torch._C.Generator at 0x7fcae24a7330>"
      ]
     },
     "execution_count": 118,
     "metadata": {},
     "output_type": "execute_result"
    }
   ],
   "source": [
    "# Load other libraries here.\n",
    "\n",
    "# Keep it minimal! We should be easily able to reproduce your code.\n",
    "\n",
    "# We only support sklearn and pytorch.\n",
    "from sklearn.datasets import fetch_openml\n",
    "from sklearn.utils import shuffle\n",
    "from sklearn.model_selection import train_test_split\n",
    "from sklearn.svm import SVC\n",
    "from sklearn.preprocessing import StandardScaler\n",
    "from sklearn.decomposition import PCA\n",
    "from sklearn import preprocessing\n",
    "import sklearn.metrics\n",
    "from sklearn.metrics import classification_report,confusion_matrix\n",
    "from sklearn.model_selection import GridSearchCV\n",
    "import joblib\n",
    "import seaborn as sns\n",
    "\n",
    "import torch \n",
    "import torchvision\n",
    "from torchvision import datasets, transforms\n",
    "from torchvision.transforms import ToTensor\n",
    "from torch.utils.data import DataLoader\n",
    "from torch import optim\n",
    "\n",
    "# Please set random seed to have reproduceable results, e.g. torch.manual_seed(123)\n",
    "torch.manual_seed(123)\n"
   ]
  },
  {
   "cell_type": "markdown",
   "metadata": {
    "id": "nxi-lLD0mKHD"
   },
   "source": [
    "Helpers\n",
    "\n",
    "In case you choose to have some methods you plan to reuse during the notebook, define them here. This will avoid clutter and keep rest of the notebook succinct."
   ]
  },
  {
   "cell_type": "code",
   "execution_count": 119,
   "metadata": {
    "id": "VBbigqdEmKd8"
   },
   "outputs": [],
   "source": [
    "def identity_func(foo):\n",
    "    return foo\n",
    "\n",
    "\n",
    "#\n",
    "#\n",
    "# ------- Your Code -------\n",
    "#\n",
    "#\n",
    "\n",
    "def display_classification_results(y_test, y_pred):\n",
    "    print('\\n')\n",
    "    print(\"Various perfrmance metrics of the model\")\n",
    "    print(\"Test accuracy: %.2f\" %(sklearn.metrics.accuracy_score(y_test, y_pred)*100))\n",
    "    print(\"Classification Report:\\n\",sklearn.metrics.classification_report(y_test, y_pred))\n",
    "\n",
    "\n",
    "def display_confusion_matrix(y_test, y_pred):\n",
    "    conf_mat = sklearn.metrics.confusion_matrix(y_test,y_pred)\n",
    "    print(\"Confusion Matrix:\\n\",conf_mat)\n",
    "    print('\\n')\n",
    "    ax = sns.heatmap(conf_mat, linewidths=1, annot=True, fmt='g', cmap='Greens')\n",
    "    ax.set(title=\"Confusion Matrix of the Model\", xlabel=\"Actual Digits\", ylabel=\"Predicted Digits\");\n",
    "\n",
    "\n",
    "# You can use this function to flatten 2D inputs\n",
    "def flatten_input_pixels(x_input):\n",
    "    result = []\n",
    "    for i in range(len(x_input)):\n",
    "        result.append(x_input[i].flatten())\n",
    "    return np.array(result, np.uint8)  # [n_samples, n_features]\n",
    "\n",
    "\n",
    "# You can use this function to plot the accuracy of the models with different parametes\n",
    "def plot_scores(x, y, title = \"Title\", x_label = \"X\", y_label = \"Y\"):\n",
    "    fig, ax = plt.subplots(nrows=1,ncols=1)\n",
    "\n",
    "    ax.plot(x, y)\n",
    "    ax.set_xticks(x)\n",
    "    ax.set_title(title)\n",
    "    ax.set_xlabel(x_label)\n",
    "    ax.set_ylabel(y_label)\n",
    "    ax.set_ylim(0.6, 1.0)\n",
    "\n",
    "# You can use this function to visualize input images and the predictions of your models\n",
    "# \"y_pred\" is output of your model \n",
    "# \"n_val\" is number of instances in test or validation sets\n",
    "def vis_predictions(x_eval, y_pred, n_val):\n",
    "    rows, cols = 4, 3\n",
    "\n",
    "    fig,ax = plt.subplots(nrows = rows, ncols = cols)\n",
    "\n",
    "    ids = np.random.randint(0,n_val,rows*cols)\n",
    "    for i in range(cols):   \n",
    "        for j in range(rows):\n",
    "            ax[j][i].set_title('predicted label: {0}'. format(y_pred[ids[(i*rows)+j]]))\n",
    "            two_d = (np.reshape(x_eval[ids[(i*rows)+j]], (28, 28))) #.astype(np.uint8)\n",
    "            ax[j][i].imshow(two_d, cmap = plt.get_cmap('Greys'))\n",
    "            ax[j][i].axes.get_xaxis().set_visible(False)\n",
    "            ax[j][i].axes.get_yaxis().set_visible(False)\n",
    "\n",
    "    plt.savefig('fig2.pdf')  \n",
    "    plt.tight_layout()  "
   ]
  },
  {
   "cell_type": "markdown",
   "metadata": {
    "id": "n1pcmKkyjT7y"
   },
   "source": [
    "# 1. Loading and Visualizing data (5 points)\n",
    "\n",
    "In this section, you'll need to prepare the MNIST data for the experiments you'll be conducting for the remainder of the notebook."
   ]
  },
  {
   "cell_type": "markdown",
   "metadata": {
    "id": "AIU9Q762fmoT"
   },
   "source": [
    "## 1.1. Load Data\n",
    "\n",
    "Here you'll load the MNIST data into memory. The end-goal is to two have the following variables:\n",
    "  * `x_trainval`, `x_test`: of shape $N \\times d_1 \\times d_2 \\dots$ (e.g., $N \\times 784$. 784 since you could flatten each 28x28 pixel image into a single vector)\n",
    "  * `y_trainval`, `y_test`: of shape $N \\times K$ (K = 1 or 10 depending on how you plan to represent the ground-truth digit annotation)\n",
    "\n",
    "You can either do this by:\n",
    "  1. Downloading the MNIST dataset, unpacking and preparing it yourself to have fine-grained control\n",
    "  1. Using high-level existing functions, such as the one provided by  [`torchvision.datasets`](https://pytorch.org/docs/stable/torchvision/datasets.html#mnist).\n",
    "  \n",
    "  \n",
    "  In either case, it is important that you have disjoint train, val, and test splits!"
   ]
  },
  {
   "cell_type": "code",
   "execution_count": 120,
   "metadata": {
    "id": "bQPetmYF4WNw"
   },
   "outputs": [],
   "source": [
    "mnist = fetch_openml('mnist_784')"
   ]
  },
  {
   "cell_type": "code",
   "execution_count": null,
   "metadata": {
    "colab": {
     "base_uri": "https://localhost:8080/"
    },
    "id": "7kYacpo_jvao",
    "outputId": "fb1c9ca0-8e19-4400-eb90-4e83d6225900"
   },
   "outputs": [
    {
     "name": "stdout",
     "output_type": "stream",
     "text": [
      "(70000, 784)\n",
      "(70000,)\n",
      "(56000, 784)\n",
      "(14000, 784)\n",
      "x_trainval.shape = (56000, 784),  y_trainval.shape = (56000,)\n",
      "x_test.shape = (14000, 784),  y_test.shape = (14000,)\n"
     ]
    }
   ],
   "source": [
    "# ------- Your Code -------\n",
    "print(mnist.data.shape)\n",
    "print(mnist.target.shape)\n",
    "mnist.data, mnist.target = shuffle(mnist.data, mnist.target)\n",
    "# Normalize the data\n",
    "mnist.data = mnist.data / 255.0\n",
    "\n",
    "# Split into trainval and test sets\n",
    "# Test set size = 20 % * (total examples)\n",
    "# Trainval set size = 80 % * (total examples)\n",
    "x_trainval, x_test, y_trainval, y_test = train_test_split(mnist.data, mnist.target, test_size=0.20, random_state=42)\n",
    "\n",
    "print(x_trainval.shape)\n",
    "print(x_test.shape)\n",
    "\n",
    "\n",
    "print('x_trainval.shape = {},  y_trainval.shape = {}'.format(x_trainval.shape, y_trainval.shape))\n",
    "print('x_test.shape = {},  y_test.shape = {}'.format(x_test.shape, y_test.shape))\n",
    "\n",
    "#\n",
    "# Feel free to have multiple variables in case your models are designed for different formats\n",
    "# For instance, in case your model requires Nx28x28 inputs, declare x_trainval_3d, etc.\n",
    "\n",
    "# Tip: Set this to a tiny number (such 0.05) to aid debugging\n",
    "# After all, you do not want to train/evaluate on the entire dataset to find bugs\n",
    "DEBUG_FRAC = 1.0\n",
    "x_trainval = x_trainval[:int(len(x_trainval)*DEBUG_FRAC)]\n",
    "y_trainval = y_trainval[:int(len(y_trainval)*DEBUG_FRAC)]\n"
   ]
  },
  {
   "cell_type": "markdown",
   "metadata": {
    "id": "eA6_cejNjzYw"
   },
   "source": [
    "#### 1.2. Visualize Data\n",
    "\n",
    "To get the hang of your data you'll be training a digit classifier on, visualize it.\n",
    "\n",
    "Examples of ways to visualize it:\n",
    "  * Given a digit, display few randomly sampled images for this digit (the bare minimum)\n",
    "  * Visualize as a grid (e.g., Slide 4, [Lecture 2](https://cms.cispa.saarland/mlcysec19/dl/4/2019-10-24-ml.pdf)) using a combination of `plt.imshow` and `plt.subplots`\n",
    "  \n",
    "It's up to you to decide how you want to do this. The end-goal is for you to potentially give a trailer of the dataset to someone who hasn't seen it before."
   ]
  },
  {
   "cell_type": "code",
   "execution_count": null,
   "metadata": {
    "colab": {
     "base_uri": "https://localhost:8080/",
     "height": 729
    },
    "id": "dISIbt4plyoD",
    "outputId": "9af66baa-b617-4877-ee5f-55f83b210d83"
   },
   "outputs": [
    {
     "data": {
      "image/png": "[encoded data removed]",
      "text/plain": [
       "<Figure size 720x720 with 100 Axes>"
      ]
     },
     "metadata": {},
     "output_type": "display_data"
    }
   ],
   "source": [
    "# Visualize 10 examples of 10 classes. You can extend the following code:\n",
    "rows, cols = 10, 10\n",
    "#fig,ax = plt.subplots(nrows = rows, ncols = cols)\n",
    "\n",
    "# ------- Your Code -------\n",
    "plt.figure(figsize=(10,10))\n",
    "for i in range(100):\n",
    "    plt.subplot(rows, cols, i+1)\n",
    "    plt.xticks([])\n",
    "    plt.yticks([])\n",
    "    plt.grid(False)\n",
    "    pixels = x_trainval[i].reshape((28, 28))\n",
    "    plt.imshow(pixels, cmap='gray')\n",
    "    plt.xlabel(y_trainval[i])\n",
    "\n",
    "\n",
    "plt.tight_layout()\n",
    "plt.savefig('fig1.pdf')   # Save the figures\n",
    "#plt.show()   # These should be some visualization of data at the end of this section\n",
    "\n",
    "# You can see an output example in the follow:"
   ]
  },
  {
   "cell_type": "markdown",
   "metadata": {
    "id": "b8sAT53jmJ8_"
   },
   "source": [
    "# 2. Digit classifiers\n",
    "\n",
    "In this section, you'll begin developing models to perform digit classification.\n",
    "\n",
    "Each model needs to be structured like so:\n",
    "  1. Give a brief reason which model you are going to train and why you choose it\n",
    "  1. Define hyper-parameters for model and optimization procedure\n",
    "  1. Define your model\n",
    "  1. Define optimization method and fit model to data\n",
    "  1. Summarize your findings\n",
    "\n",
    "\n",
    "\n",
    "\n",
    "\n"
   ]
  },
  {
   "cell_type": "markdown",
   "metadata": {
    "id": "xkF-7eFnpWoe"
   },
   "source": [
    "## 2.1: Model [M1]: *fill-this-in* (25 points)\n",
    "\n",
    "**Short description **: \n",
    "The intuition behind selection of SVM for MNIST digit classification is as follows -\n",
    "Their dependence on relatively few support vectors means that they are \n",
    "\n",
    "1. They depend on few support vectors and make good compact models.\n",
    "2. Training takes some time but after training is completed , the testing phase is fast.\n",
    "3. They can also work with high dimensional data like MNIST n_classes =10 , also in cases where the number of samples is less than the number of features/dimensions.\n",
    "4. They also have powerful kernel methods which can fit to various types of data.\n",
    "\n"
   ]
  },
  {
   "cell_type": "markdown",
   "metadata": {
    "id": "lVyT9Oddp3GB"
   },
   "source": [
    "### 2.1.1: Hyper-parameters\n",
    "\n",
    "Define hyper-parameters for your model here"
   ]
  },
  {
   "cell_type": "markdown",
   "metadata": {
    "id": "bifVD-aqOtin"
   },
   "source": [
    "C and gamma are one of the two hyperparameters governing SVM.\n",
    "\n",
    "**C**\n",
    "\n",
    "---\n",
    "\n",
    "*   The  c  argument specifies the cost of a violation to the margin. When the  c  argument is small, then the margins will be wider and many support vectors will be on the margin or will violate the margin. \n",
    "*   When the  c  argument is large, then the margins will be narrow and \n",
    "there will be few support vectors on the margin or violating the margin.\n",
    "\n",
    "**gamma**\n",
    "\n",
    "---\n",
    "\n",
    "In order to fit an SVM using a non-linear kernel, we use the  SVC()  function.  To fit an SVM with a radial kernel we use  kernel=\"rbf\".\n",
    "It defines how far influences the calculation of plausible line of separation. When gamma is higher, nearby points will have high influence.\n",
    "When low gamma means far away points also be considered to get the decision boundary."
   ]
  },
  {
   "cell_type": "code",
   "execution_count": null,
   "metadata": {
    "id": "UJRNE_US8S2S"
   },
   "outputs": [],
   "source": [
    "# ------- Your Code -------\n",
    "C = [0.01,0.1,1,10]\n",
    "Gamma = [0.01,0.1,1,10]\n",
    "kernel = 'rbf'\n",
    "param_grid = {'C': [0.01,0.1,1,10], 'gamma': [0.01,0.1,1,10], 'kernel': ['rbf']}"
   ]
  },
  {
   "cell_type": "markdown",
   "metadata": {
    "id": "-ZhVgrFM01FF"
   },
   "source": [
    "### 2.1.2: Data Preprocessing\n"
   ]
  },
  {
   "cell_type": "code",
   "execution_count": null,
   "metadata": {
    "id": "tJj89yBha0cP"
   },
   "outputs": [],
   "source": [
    "#\n",
    "#\n",
    "# ------- Your Code -------\n",
    "#\n",
    "# e.g. normalize, flatten input data.\n",
    "\n",
    "# PCA\n",
    "pca = PCA(0.95)\n",
    "pca.fit(x_trainval)\n",
    "\n",
    "x_trainval_red = pca.transform(x_trainval)\n",
    "x_test_red = pca.transform(x_test)\n",
    "\n",
    "print(\"Reduced:\",x_trainval_red.shape)\n",
    "print(\"Reduced:\",x_test_red.shape)"
   ]
  },
  {
   "cell_type": "code",
   "execution_count": null,
   "metadata": {
    "colab": {
     "base_uri": "https://localhost:8080/"
    },
    "id": "vzJ1X7ek01FF",
    "outputId": "7f43a087-c769-447c-909c-eb475de3e905"
   },
   "outputs": [
    {
     "name": "stdout",
     "output_type": "stream",
     "text": [
      "Reduced: (56000, 154)\n",
      "Reduced: (14000, 154)\n"
     ]
    }
   ],
   "source": [
    "\n",
    "\n",
    "test_set = 'test'  #  or 'test'\n",
    "# Decide all your hyperparameters based on validation performance\n",
    "# Then, switch to 'test' for final evaluation\n",
    "\n",
    "\n",
    "# Train_eval = 56,000 examples\n",
    "# train:val = 3:1\n",
    "\n",
    "\n",
    "if test_set == 'val':\n",
    "    x_train_svm, x_eval_svm, y_train_svm, y_eval_svm = train_test_split(x_trainval_red, y_trainval, \n",
    "                                                        test_size=0.25, \n",
    "                                                        random_state=42)\n",
    "    print('x_train.shape = {},  y_train.shape = {}'.format(x_train_svm.shape, y_train_svm.shape))\n",
    "    print('x_eval.shape = {},  y_eval.shape = {}'.format(x_eval_svm.shape, y_eval_svm.shape))\n",
    "    #train_idxs, val_idxs = ..., ...   # Fill in\n",
    "    #x_train, y_train = x_trainval[train_idxs], y_trainval[train_idxs]\n",
    "    #x_eval, y_eval = x_trainval[val_idxs], y_trainval[val_idxs]\n",
    "else:\n",
    "    x_train, y_train = x_trainval_red, y_trainval\n",
    "    x_eval_svt, y_eval_svt = x_test_red, y_test\n"
   ]
  },
  {
   "cell_type": "markdown",
   "metadata": {
    "id": "pkuCgPatp59X"
   },
   "source": [
    "### 2.1.3: Model\n",
    "\n",
    "Define your model here"
   ]
  },
  {
   "cell_type": "code",
   "execution_count": null,
   "metadata": {
    "id": "3qV3SuPAp6XF"
   },
   "outputs": [],
   "source": [
    "# ------- Your Code -------\n",
    "svm = SVC()\n",
    "gs = GridSearchCV(svm, param_grid, verbose=2, cv=2, refit=True, return_train_score=True, scoring=\"accuracy\")\n",
    "\n",
    "\n"
   ]
  },
  {
   "cell_type": "markdown",
   "metadata": {
    "id": "SxE6d6OXp6sU"
   },
   "source": [
    "### 2.1.4: Fit Model\n",
    "\n",
    "Define optimization procedure and fit your model to the data"
   ]
  },
  {
   "cell_type": "code",
   "execution_count": null,
   "metadata": {
    "colab": {
     "base_uri": "https://localhost:8080/"
    },
    "id": "08tLwuchp68-",
    "outputId": "6cfd3dba-4d35-4f10-e3dd-a540b0a558b7"
   },
   "outputs": [
    {
     "name": "stdout",
     "output_type": "stream",
     "text": [
      "Fitting 2 folds for each of 16 candidates, totalling 32 fits\n",
      "[CV] C=0.01, gamma=0.01, kernel=rbf ..................................\n"
     ]
    },
    {
     "name": "stderr",
     "output_type": "stream",
     "text": [
      "[Parallel(n_jobs=1)]: Using backend SequentialBackend with 1 concurrent workers.\n"
     ]
    },
    {
     "name": "stdout",
     "output_type": "stream",
     "text": [
      "[CV] ................... C=0.01, gamma=0.01, kernel=rbf, total= 4.4min\n",
      "[CV] C=0.01, gamma=0.01, kernel=rbf ..................................\n"
     ]
    },
    {
     "name": "stderr",
     "output_type": "stream",
     "text": [
      "[Parallel(n_jobs=1)]: Done   1 out of   1 | elapsed:  6.3min remaining:    0.0s\n"
     ]
    },
    {
     "name": "stdout",
     "output_type": "stream",
     "text": [
      "[CV] ................... C=0.01, gamma=0.01, kernel=rbf, total= 4.4min\n",
      "[CV] C=0.01, gamma=0.1, kernel=rbf ...................................\n",
      "[CV] .................... C=0.01, gamma=0.1, kernel=rbf, total= 6.1min\n",
      "[CV] C=0.01, gamma=0.1, kernel=rbf ...................................\n",
      "[CV] .................... C=0.01, gamma=0.1, kernel=rbf, total= 5.8min\n",
      "[CV] C=0.01, gamma=1, kernel=rbf .....................................\n",
      "[CV] ...................... C=0.01, gamma=1, kernel=rbf, total= 5.9min\n",
      "[CV] C=0.01, gamma=1, kernel=rbf .....................................\n",
      "[CV] ...................... C=0.01, gamma=1, kernel=rbf, total= 5.9min\n",
      "[CV] C=0.01, gamma=10, kernel=rbf ....................................\n",
      "[CV] ..................... C=0.01, gamma=10, kernel=rbf, total= 5.9min\n",
      "[CV] C=0.01, gamma=10, kernel=rbf ....................................\n",
      "[CV] ..................... C=0.01, gamma=10, kernel=rbf, total= 5.9min\n",
      "[CV] C=0.1, gamma=0.01, kernel=rbf ...................................\n",
      "[CV] .................... C=0.1, gamma=0.01, kernel=rbf, total= 1.8min\n",
      "[CV] C=0.1, gamma=0.01, kernel=rbf ...................................\n",
      "[CV] .................... C=0.1, gamma=0.01, kernel=rbf, total= 1.8min\n",
      "[CV] C=0.1, gamma=0.1, kernel=rbf ....................................\n",
      "[CV] ..................... C=0.1, gamma=0.1, kernel=rbf, total= 4.9min\n",
      "[CV] C=0.1, gamma=0.1, kernel=rbf ....................................\n",
      "[CV] ..................... C=0.1, gamma=0.1, kernel=rbf, total= 5.0min\n",
      "[CV] C=0.1, gamma=1, kernel=rbf ......................................\n",
      "[CV] ....................... C=0.1, gamma=1, kernel=rbf, total= 6.0min\n",
      "[CV] C=0.1, gamma=1, kernel=rbf ......................................\n",
      "[CV] ....................... C=0.1, gamma=1, kernel=rbf, total= 6.0min\n",
      "[CV] C=0.1, gamma=10, kernel=rbf .....................................\n",
      "[CV] ...................... C=0.1, gamma=10, kernel=rbf, total= 6.0min\n",
      "[CV] C=0.1, gamma=10, kernel=rbf .....................................\n",
      "[CV] ...................... C=0.1, gamma=10, kernel=rbf, total= 6.0min\n",
      "[CV] C=1, gamma=0.01, kernel=rbf .....................................\n",
      "[CV] ...................... C=1, gamma=0.01, kernel=rbf, total=  53.8s\n",
      "[CV] C=1, gamma=0.01, kernel=rbf .....................................\n",
      "[CV] ...................... C=1, gamma=0.01, kernel=rbf, total=  54.0s\n",
      "[CV] C=1, gamma=0.1, kernel=rbf ......................................\n",
      "[CV] ....................... C=1, gamma=0.1, kernel=rbf, total= 4.7min\n",
      "[CV] C=1, gamma=0.1, kernel=rbf ......................................\n",
      "[CV] ....................... C=1, gamma=0.1, kernel=rbf, total= 4.7min\n",
      "[CV] C=1, gamma=1, kernel=rbf ........................................\n",
      "[CV] ......................... C=1, gamma=1, kernel=rbf, total= 6.3min\n",
      "[CV] C=1, gamma=1, kernel=rbf ........................................\n",
      "[CV] ......................... C=1, gamma=1, kernel=rbf, total= 6.2min\n",
      "[CV] C=1, gamma=10, kernel=rbf .......................................\n",
      "[CV] ........................ C=1, gamma=10, kernel=rbf, total= 6.1min\n",
      "[CV] C=1, gamma=10, kernel=rbf .......................................\n",
      "[CV] ........................ C=1, gamma=10, kernel=rbf, total= 6.1min\n",
      "[CV] C=10, gamma=0.01, kernel=rbf ....................................\n",
      "[CV] ..................... C=10, gamma=0.01, kernel=rbf, total=  44.9s\n",
      "[CV] C=10, gamma=0.01, kernel=rbf ....................................\n",
      "[CV] ..................... C=10, gamma=0.01, kernel=rbf, total=  45.9s\n",
      "[CV] C=10, gamma=0.1, kernel=rbf .....................................\n",
      "[CV] ...................... C=10, gamma=0.1, kernel=rbf, total= 4.7min\n",
      "[CV] C=10, gamma=0.1, kernel=rbf .....................................\n",
      "[CV] ...................... C=10, gamma=0.1, kernel=rbf, total= 4.8min\n",
      "[CV] C=10, gamma=1, kernel=rbf .......................................\n",
      "[CV] ........................ C=10, gamma=1, kernel=rbf, total= 6.2min\n",
      "[CV] C=10, gamma=1, kernel=rbf .......................................\n",
      "[CV] ........................ C=10, gamma=1, kernel=rbf, total= 6.2min\n",
      "[CV] C=10, gamma=10, kernel=rbf ......................................\n",
      "[CV] ....................... C=10, gamma=10, kernel=rbf, total= 6.2min\n",
      "[CV] C=10, gamma=10, kernel=rbf ......................................\n",
      "[CV] ....................... C=10, gamma=10, kernel=rbf, total= 6.2min\n"
     ]
    },
    {
     "name": "stderr",
     "output_type": "stream",
     "text": [
      "[Parallel(n_jobs=1)]: Done  32 out of  32 | elapsed: 210.1min finished\n"
     ]
    },
    {
     "data": {
      "text/plain": [
       "['svm.pkl']"
      ]
     },
     "execution_count": 10,
     "metadata": {},
     "output_type": "execute_result"
    }
   ],
   "source": [
    "# ------- Your Code -------\n",
    "gs.fit(x_train_svm,y_train_svm)\n",
    "\n",
    "#  Please save the trained model\n",
    "joblib.dump(gs, 'svm.pkl')"
   ]
  },
  {
   "cell_type": "code",
   "execution_count": null,
   "metadata": {
    "colab": {
     "base_uri": "https://localhost:8080/"
    },
    "id": "MFqsKA_EMeau",
    "outputId": "608b93b4-e8a4-41c8-f7ff-7b17e209ccbf"
   },
   "outputs": [
    {
     "name": "stdout",
     "output_type": "stream",
     "text": [
      "SVC(C=10, break_ties=False, cache_size=200, class_weight=None, coef0=0.0,\n",
      "    decision_function_shape='ovr', degree=3, gamma=0.01, kernel='rbf',\n",
      "    max_iter=-1, probability=False, random_state=None, shrinking=True,\n",
      "    tol=0.001, verbose=False)\n",
      "[[0.87419048 0.19266667 0.11038095 0.11038095]\n",
      " [0.93930952 0.60702381 0.11038095 0.11038095]\n",
      " [0.9657381  0.94652381 0.18447619 0.11038095]\n",
      " [0.97571429 0.94888095 0.19211905 0.11038095]]\n"
     ]
    }
   ],
   "source": [
    "print(gs.best_estimator_)\n",
    "#print(gs.cv_results_)\n",
    "scores = gs.cv_results_[\"mean_test_score\"].reshape(len(C), len(Gamma))\n",
    "print(scores)"
   ]
  },
  {
   "cell_type": "code",
   "execution_count": null,
   "metadata": {
    "colab": {
     "base_uri": "https://localhost:8080/"
    },
    "id": "ix_S8m_TModW",
    "outputId": "54f59e2f-8c4d-428a-80ff-64a53beb54a6"
   },
   "outputs": [
    {
     "name": "stdout",
     "output_type": "stream",
     "text": [
      "SVC(C=10, break_ties=False, cache_size=200, class_weight=None, coef0=0.0,\n",
      "    decision_function_shape='ovr', degree=3, gamma=0.01, kernel='rbf',\n",
      "    max_iter=-1, probability=False, random_state=None, shrinking=True,\n",
      "    tol=0.001, verbose=False)\n"
     ]
    }
   ],
   "source": [
    "#load your model for further usage\n",
    "sav_svm = joblib.load(\"svm.pkl\")\n",
    "print(sav_svm.best_estimator_)"
   ]
  },
  {
   "cell_type": "markdown",
   "metadata": {
    "id": "QaJv_d_Dp7OM"
   },
   "source": [
    "### 2.1.5: Evaluation\n",
    "\n",
    "Evaluate your model.\n",
    "  * Evaluate models with different parameters \n",
    "  * Plot the score (accuracy) for each model using \"plot_scores\" function\n",
    "  * Report score for the best model\n",
    "  * Use \"vis_predictions\" function to visualize few examples of test/validation set with the corresponding predictions\n"
   ]
  },
  {
   "cell_type": "code",
   "execution_count": null,
   "metadata": {
    "colab": {
     "base_uri": "https://localhost:8080/"
    },
    "id": "kZtLgPZrp7h5",
    "outputId": "fe2c2c6e-ef84-446f-eecd-1722a65dc63d"
   },
   "outputs": [
    {
     "name": "stdout",
     "output_type": "stream",
     "text": [
      "GridSearchCV(cv=2, error_score=nan,\n",
      "             estimator=SVC(C=1.0, break_ties=False, cache_size=200,\n",
      "                           class_weight=None, coef0=0.0,\n",
      "                           decision_function_shape='ovr', degree=3,\n",
      "                           gamma='scale', kernel='rbf', max_iter=-1,\n",
      "                           probability=False, random_state=None, shrinking=True,\n",
      "                           tol=0.001, verbose=False),\n",
      "             iid='deprecated', n_jobs=None,\n",
      "             param_grid={'C': [0.01, 0.1, 1, 10], 'gamma': [0.01, 0.1, 1, 10],\n",
      "                         'kernel': ['rbf']},\n",
      "             pre_dispatch='2*n_jobs', refit=True, return_train_score=True,\n",
      "             scoring='accuracy', verbose=2)\n"
     ]
    }
   ],
   "source": [
    "# ------- Your Code -------\n",
    "# Example: y_pred = model.predict(x)\n",
    "y_pred = sav_svm.predict(x_eval_svt)"
   ]
  },
  {
   "cell_type": "code",
   "execution_count": null,
   "metadata": {
    "colab": {
     "base_uri": "https://localhost:8080/",
     "height": 623
    },
    "id": "QFnNiFCI01FH",
    "outputId": "b598beee-af2d-4a71-f9a2-21137cba073b"
   },
   "outputs": [
    {
     "ename": "NameError",
     "evalue": "ignored",
     "output_type": "error",
     "traceback": [
      "\u001b[0;31m---------------------------------------------------------------------------\u001b[0m",
      "\u001b[0;31mNameError\u001b[0m                                 Traceback (most recent call last)",
      "\u001b[0;32m<ipython-input-44-d18666708904>\u001b[0m in \u001b[0;36m<module>\u001b[0;34m()\u001b[0m\n\u001b[1;32m     16\u001b[0m \u001b[0mplt\u001b[0m\u001b[0;34m.\u001b[0m\u001b[0mylabel\u001b[0m\u001b[0;34m(\u001b[0m\u001b[0;34m\"C\"\u001b[0m\u001b[0;34m)\u001b[0m\u001b[0;34m\u001b[0m\u001b[0;34m\u001b[0m\u001b[0m\n\u001b[1;32m     17\u001b[0m \u001b[0mplt\u001b[0m\u001b[0;34m.\u001b[0m\u001b[0mcolorbar\u001b[0m\u001b[0;34m(\u001b[0m\u001b[0;34m)\u001b[0m\u001b[0;34m\u001b[0m\u001b[0;34m\u001b[0m\u001b[0m\n\u001b[0;32m---> 18\u001b[0;31m \u001b[0mplt\u001b[0m\u001b[0;34m.\u001b[0m\u001b[0mxticks\u001b[0m\u001b[0;34m(\u001b[0m\u001b[0mnp\u001b[0m\u001b[0;34m.\u001b[0m\u001b[0marange\u001b[0m\u001b[0;34m(\u001b[0m\u001b[0mlen\u001b[0m\u001b[0;34m(\u001b[0m\u001b[0mGamma\u001b[0m\u001b[0;34m)\u001b[0m\u001b[0;34m)\u001b[0m\u001b[0;34m,\u001b[0m \u001b[0mgamma_range\u001b[0m\u001b[0;34m,\u001b[0m \u001b[0mrotation\u001b[0m\u001b[0;34m=\u001b[0m\u001b[0;36m45\u001b[0m\u001b[0;34m)\u001b[0m\u001b[0;34m\u001b[0m\u001b[0;34m\u001b[0m\u001b[0m\n\u001b[0m\u001b[1;32m     19\u001b[0m \u001b[0mplt\u001b[0m\u001b[0;34m.\u001b[0m\u001b[0myticks\u001b[0m\u001b[0;34m(\u001b[0m\u001b[0mnp\u001b[0m\u001b[0;34m.\u001b[0m\u001b[0marange\u001b[0m\u001b[0;34m(\u001b[0m\u001b[0mlen\u001b[0m\u001b[0;34m(\u001b[0m\u001b[0mC_range\u001b[0m\u001b[0;34m)\u001b[0m\u001b[0;34m)\u001b[0m\u001b[0;34m,\u001b[0m \u001b[0mC_range\u001b[0m\u001b[0;34m)\u001b[0m\u001b[0;34m\u001b[0m\u001b[0;34m\u001b[0m\u001b[0m\n\u001b[1;32m     20\u001b[0m \u001b[0mplt\u001b[0m\u001b[0;34m.\u001b[0m\u001b[0mtitle\u001b[0m\u001b[0;34m(\u001b[0m\u001b[0;34m\"score accuracy\"\u001b[0m\u001b[0;34m)\u001b[0m\u001b[0;34m\u001b[0m\u001b[0;34m\u001b[0m\u001b[0m\n",
      "\u001b[0;31mNameError\u001b[0m: name 'gamma_range' is not defined"
     ]
    },
    {
     "data": {
      "image/png": "[encoded data removed]",
      "text/plain": [
       "<Figure size 576x432 with 2 Axes>"
      ]
     },
     "metadata": {
      "needs_background": "light"
     },
     "output_type": "display_data"
    }
   ],
   "source": [
    "# Here plot score (accuracy) for each model. You can use \"plot_scores\" function.\n",
    "\n",
    "# Example: plot_scores(parameters, scores, \"title\", \"x_label\", \"y_label\"), \n",
    "\n",
    "# You can see an example in the follow.\n",
    "# Note that the visualizations/plots provided are just simple examples/illustrations. \n",
    "# We encourage more informative and alternate methods to present results.\n",
    "\n",
    "# DOES NOT PLOT XXXXXXXXXXXXXXXXXXXXXXX\n",
    "C_range = np.logspace(-2, 10, 13)\n",
    "gamma_range = np.logspace(-9, 3, 13)\n",
    "\n",
    "\n",
    "plt.figure(figsize=(8, 6))\n",
    "xx_, yy_ = np.meshgrid(np.linspace(-3, 3, 200), np.linspace(-3, 3, 200))\n",
    "for (k, (C, gamma, clf)) in enumerate(classifiers):\n",
    "    # evaluate decision function in a grid\n",
    "    Z = clf.decision_function(np.c_[xx_.ravel(), yy_.ravel()])\n",
    "    Z = Z.reshape(xx.shape)\n",
    "\n",
    "    # visualize decision function for these parameters\n",
    "    plt.subplot(len(C_2d_range), len(gamma_2d_range), k + 1)\n",
    "    plt.title(\"gamma=10^%d, C=10^%d\" % (np.log10(gamma), np.log10(C)), size=\"medium\")\n",
    "\n",
    "    # visualize parameter's effect on decision function\n",
    "    plt.pcolormesh(xx, yy, -Z, cmap=plt.cm.RdBu)\n",
    "    plt.scatter(X_2d[:, 0], X_2d[:, 1], c=y_2d, cmap=plt.cm.RdBu_r, edgecolors=\"k\")\n",
    "    plt.xticks(())\n",
    "    plt.yticks(())\n",
    "    plt.axis(\"tight\")"
   ]
  },
  {
   "cell_type": "code",
   "execution_count": null,
   "metadata": {
    "colab": {
     "base_uri": "https://localhost:8080/",
     "height": 799
    },
    "id": "xZ_OYghL01FH",
    "outputId": "46eb7e4b-eee4-418c-a753-8f211660f044"
   },
   "outputs": [
    {
     "name": "stdout",
     "output_type": "stream",
     "text": [
      "Test accuracy: 98.14\n",
      "Classification Report:\n",
      "               precision    recall  f1-score   support\n",
      "\n",
      "           0       0.99      0.99      0.99      1445\n",
      "           1       0.99      0.99      0.99      1641\n",
      "           2       0.98      0.98      0.98      1345\n",
      "           3       0.98      0.97      0.98      1407\n",
      "           4       0.98      0.97      0.98      1380\n",
      "           5       0.98      0.98      0.98      1273\n",
      "           6       0.98      0.99      0.99      1414\n",
      "           7       0.99      0.97      0.98      1449\n",
      "           8       0.98      0.98      0.98      1321\n",
      "           9       0.97      0.98      0.97      1325\n",
      "\n",
      "    accuracy                           0.98     14000\n",
      "   macro avg       0.98      0.98      0.98     14000\n",
      "weighted avg       0.98      0.98      0.98     14000\n",
      "\n",
      "Confusion Matrix:\n",
      " [[1435    0    1    0    1    2    3    0    2    1]\n",
      " [   0 1630    3    1    1    1    1    3    0    1]\n",
      " [   4    2 1322    4    1    0    1    4    6    1]\n",
      " [   0    2   14 1366    1    8    0    2    9    5]\n",
      " [   4    3    1    0 1342    0    5    5    2   18]\n",
      " [   2    0    2    8    3 1243    7    0    4    4]\n",
      " [   3    1    0    0    2    5 1402    0    0    1]\n",
      " [   1    5    9    2    8    1    0 1411    1   11]\n",
      " [   3    1    3    3    5    7    4    2 1293    0]\n",
      " [   2    1    0    8    8    5    1    3    2 1295]]\n"
     ]
    },
    {
     "data": {
      "image/png": "[encoded data removed]",
      "text/plain": [
       "<Figure size 432x288 with 2 Axes>"
      ]
     },
     "metadata": {
      "needs_background": "light"
     },
     "output_type": "display_data"
    }
   ],
   "source": [
    "# Here report the score for the best model\n",
    "#\n",
    "# ------- Your Code -------\n",
    "#\n",
    "\n",
    "display_classification_results(y_eval_svt, y_pred)\n",
    "display_confusion_matrix(y_eval_svt, y_pred)"
   ]
  },
  {
   "cell_type": "code",
   "execution_count": null,
   "metadata": {
    "colab": {
     "base_uri": "https://localhost:8080/",
     "height": 297
    },
    "id": "U6kwIJKe008o",
    "outputId": "63657d9d-7c4a-425f-d9d5-d78b0c6c842a"
   },
   "outputs": [
    {
     "data": {
      "image/png": "[encoded data removed]",
      "text/plain": [
       "<Figure size 432x288 with 12 Axes>"
      ]
     },
     "metadata": {
      "needs_background": "light"
     },
     "output_type": "display_data"
    }
   ],
   "source": [
    "# Visualize the predictions\n",
    "# Example: vis_predictions(x_eval, y_pred, size_of_data)\n",
    "#\n",
    "#\n",
    "# ------- Your Code -------\n",
    "#\n",
    "vis_predictions(x_test, y_pred, 25)"
   ]
  },
  {
   "cell_type": "markdown",
   "metadata": {
    "id": "DEQrdyLHsUIu"
   },
   "source": [
    "### 2.1.6: Summary\n",
    "\n",
    "Summarize your findings:\n",
    " * Which hyper-parameters were important and how did they influence your results?\n",
    "C and Gamma and kernel types are important in influencing our accuracy scores. Kernel with the **rbf** worked the best in our case with a test accuracy of 98% and training accuracy of 97% with a value of **C = 10** and **gamma = 0.01**.\n",
    "Grid search is commonly used as an approach to hyper-parameter tuning that will methodically builds and evaluates model for each combination of parameters specified in a grid.\n",
    "\n",
    "\n",
    " * What were other design choices you faced?\n",
    " \n",
    "1.   Training with SVM took lot of time, so we had to do data pre processing like Normalizing and applying PCA with variance of 0.95 on the original training dataset to reduce the number of dimensions from 784 to 134. It did not affect the accuracy nor reduced the precision after applying PCA.\n",
    "2.  C has to be chosen carefully with cross-validation which is again computationally expensive with large datasets.\n",
    "\n",
    "\n",
    " \n",
    " * Any other interesting insights...\n",
    " Simple, efficient, faster and not many parameters to tune finely."
   ]
  },
  {
   "cell_type": "markdown",
   "metadata": {
    "id": "Fcq52WUUs2Mm"
   },
   "source": [
    "# 2.2: Model [M2]: *fill-this-in* (25 points)\n",
    "\n",
    "\n"
   ]
  },
  {
   "cell_type": "markdown",
   "metadata": {
    "id": "7XPGNsr701FI"
   },
   "source": [
    "### 2.2.1: Hyper-parameters\n",
    "\n",
    "Define hyper-parameters for your method here"
   ]
  },
  {
   "cell_type": "code",
   "execution_count": null,
   "metadata": {
    "id": "1V-aANfA01FI"
   },
   "outputs": [],
   "source": [
    "# Device configuration\n",
    "device = torch.device('cuda' if torch.cuda.is_available() else 'cpu')\n",
    "device\n",
    "\n",
    "from torchvision import datasets\n",
    "from torchvision.transforms import ToTensor\n",
    "train_data = datasets.MNIST(\n",
    "    root = 'data',\n",
    "    train = True,                         \n",
    "    transform = ToTensor(), \n",
    "    download = True,            \n",
    ")\n",
    "test_data = datasets.MNIST(\n",
    "    root = 'data', \n",
    "    train = False, \n",
    "    transform = ToTensor()\n",
    ")\n",
    "\n",
    "\n"
   ]
  },
  {
   "cell_type": "markdown",
   "metadata": {
    "id": "nure4xC_01FK"
   },
   "source": [
    "### 2.2.2: Data Preprocessing\n"
   ]
  },
  {
   "cell_type": "code",
   "execution_count": null,
   "metadata": {
    "colab": {
     "base_uri": "https://localhost:8080/"
    },
    "id": "ak3VMb8S01FK",
    "outputId": "0cf60dea-4d4c-4996-e45b-7586fba2716b"
   },
   "outputs": [
    {
     "data": {
      "text/plain": [
       "{'test': <torch.utils.data.dataloader.DataLoader at 0x7fcad80ec310>,\n",
       " 'train': <torch.utils.data.dataloader.DataLoader at 0x7fcad80ec090>}"
      ]
     },
     "execution_count": 88,
     "metadata": {},
     "output_type": "execute_result"
    }
   ],
   "source": [
    "from torch.utils.data import DataLoader\n",
    "loaders = {\n",
    "    'train' : torch.utils.data.DataLoader(train_data, \n",
    "                                          batch_size=100, \n",
    "                                          shuffle=True, \n",
    "                                          num_workers=1),\n",
    "    \n",
    "    'test'  : torch.utils.data.DataLoader(test_data, \n",
    "                                          batch_size=100, \n",
    "                                          shuffle=True, \n",
    "                                          num_workers=1),\n",
    "}\n",
    "loaders\n"
   ]
  },
  {
   "cell_type": "markdown",
   "metadata": {
    "id": "6oHcWedF01FK"
   },
   "source": [
    "### 2.2.3: Model\n",
    "\n",
    "Define your model here (all hyper-parameters in 2.1.1)"
   ]
  },
  {
   "cell_type": "code",
   "execution_count": null,
   "metadata": {
    "id": "RalMhJvZ01FK"
   },
   "outputs": [],
   "source": [
    "#\n",
    "import torch.nn as nn\n",
    "class CNN(nn.Module):\n",
    "    def __init__(self):\n",
    "        super(CNN, self).__init__()\n",
    "        self.conv1 = nn.Sequential(         \n",
    "            nn.Conv2d(\n",
    "                in_channels=1,              \n",
    "                out_channels=16,            \n",
    "                kernel_size=5,              \n",
    "                stride=1,                   \n",
    "                padding=2,                  \n",
    "            ),                              \n",
    "            nn.ReLU(),                      \n",
    "            nn.MaxPool2d(kernel_size=2),    \n",
    "        )\n",
    "        self.conv2 = nn.Sequential(         \n",
    "            nn.Conv2d(16, 32, 5, 1, 2),     \n",
    "            nn.ReLU(),                      \n",
    "            nn.MaxPool2d(2),                \n",
    "        )\n",
    "        # fully connected layer, output 10 classes\n",
    "        self.out = nn.Linear(32 * 7 * 7, 10)\n",
    "    def forward(self, x):\n",
    "        x = self.conv1(x)\n",
    "        x = self.conv2(x)\n",
    "        # flatten the output of conv2 to (batch_size, 32 * 7 * 7)\n",
    "        x = x.view(x.size(0), -1)       \n",
    "        output = self.out(x)\n",
    "        return output, x"
   ]
  },
  {
   "cell_type": "markdown",
   "metadata": {
    "id": "C5k8P8PP01FL"
   },
   "source": [
    "### 2.2.4: Fit Model\n"
   ]
  },
  {
   "cell_type": "code",
   "execution_count": null,
   "metadata": {
    "colab": {
     "base_uri": "https://localhost:8080/"
    },
    "id": "DS0sDmha01FL",
    "outputId": "590c1adf-79e7-4643-e2f7-9f9b1186b1a7"
   },
   "outputs": [
    {
     "name": "stdout",
     "output_type": "stream",
     "text": [
      "CNN(\n",
      "  (conv1): Sequential(\n",
      "    (0): Conv2d(1, 16, kernel_size=(5, 5), stride=(1, 1), padding=(2, 2))\n",
      "    (1): ReLU()\n",
      "    (2): MaxPool2d(kernel_size=2, stride=2, padding=0, dilation=1, ceil_mode=False)\n",
      "  )\n",
      "  (conv2): Sequential(\n",
      "    (0): Conv2d(16, 32, kernel_size=(5, 5), stride=(1, 1), padding=(2, 2))\n",
      "    (1): ReLU()\n",
      "    (2): MaxPool2d(kernel_size=2, stride=2, padding=0, dilation=1, ceil_mode=False)\n",
      "  )\n",
      "  (out): Linear(in_features=1568, out_features=10, bias=True)\n",
      ")\n",
      "Epoch [1/10], Step [100/600], Loss: 0.1378\n",
      "Epoch [1/10], Step [200/600], Loss: 0.0703\n",
      "Epoch [1/10], Step [300/600], Loss: 0.0922\n",
      "Epoch [1/10], Step [400/600], Loss: 0.0654\n",
      "Epoch [1/10], Step [500/600], Loss: 0.0431\n",
      "Epoch [1/10], Step [600/600], Loss: 0.0309\n",
      "Epoch [2/10], Step [100/600], Loss: 0.1585\n",
      "Epoch [2/10], Step [200/600], Loss: 0.0211\n",
      "Epoch [2/10], Step [300/600], Loss: 0.1447\n",
      "Epoch [2/10], Step [400/600], Loss: 0.0886\n",
      "Epoch [2/10], Step [500/600], Loss: 0.0194\n",
      "Epoch [2/10], Step [600/600], Loss: 0.0091\n",
      "Epoch [3/10], Step [100/600], Loss: 0.0395\n",
      "Epoch [3/10], Step [200/600], Loss: 0.0089\n",
      "Epoch [3/10], Step [300/600], Loss: 0.0218\n",
      "Epoch [3/10], Step [400/600], Loss: 0.0295\n",
      "Epoch [3/10], Step [500/600], Loss: 0.0185\n",
      "Epoch [3/10], Step [600/600], Loss: 0.0952\n",
      "Epoch [4/10], Step [100/600], Loss: 0.0016\n",
      "Epoch [4/10], Step [200/600], Loss: 0.0249\n",
      "Epoch [4/10], Step [300/600], Loss: 0.0674\n",
      "Epoch [4/10], Step [400/600], Loss: 0.0257\n",
      "Epoch [4/10], Step [500/600], Loss: 0.0697\n",
      "Epoch [4/10], Step [600/600], Loss: 0.0291\n",
      "Epoch [5/10], Step [100/600], Loss: 0.0064\n",
      "Epoch [5/10], Step [200/600], Loss: 0.0989\n",
      "Epoch [5/10], Step [300/600], Loss: 0.0498\n",
      "Epoch [5/10], Step [400/600], Loss: 0.0047\n",
      "Epoch [5/10], Step [500/600], Loss: 0.0100\n",
      "Epoch [5/10], Step [600/600], Loss: 0.1110\n",
      "Epoch [6/10], Step [100/600], Loss: 0.0288\n",
      "Epoch [6/10], Step [200/600], Loss: 0.0063\n",
      "Epoch [6/10], Step [300/600], Loss: 0.0579\n",
      "Epoch [6/10], Step [400/600], Loss: 0.0023\n",
      "Epoch [6/10], Step [500/600], Loss: 0.0019\n",
      "Epoch [6/10], Step [600/600], Loss: 0.0606\n",
      "Epoch [7/10], Step [100/600], Loss: 0.0358\n",
      "Epoch [7/10], Step [200/600], Loss: 0.1237\n",
      "Epoch [7/10], Step [300/600], Loss: 0.1382\n",
      "Epoch [7/10], Step [400/600], Loss: 0.0613\n",
      "Epoch [7/10], Step [500/600], Loss: 0.0981\n",
      "Epoch [7/10], Step [600/600], Loss: 0.0166\n",
      "Epoch [8/10], Step [100/600], Loss: 0.0006\n",
      "Epoch [8/10], Step [200/600], Loss: 0.1089\n",
      "Epoch [8/10], Step [300/600], Loss: 0.1468\n",
      "Epoch [8/10], Step [400/600], Loss: 0.0002\n",
      "Epoch [8/10], Step [500/600], Loss: 0.0092\n",
      "Epoch [8/10], Step [600/600], Loss: 0.0038\n",
      "Epoch [9/10], Step [100/600], Loss: 0.0945\n",
      "Epoch [9/10], Step [200/600], Loss: 0.0001\n",
      "Epoch [9/10], Step [300/600], Loss: 0.0517\n",
      "Epoch [9/10], Step [400/600], Loss: 0.0724\n",
      "Epoch [9/10], Step [500/600], Loss: 0.0144\n",
      "Epoch [9/10], Step [600/600], Loss: 0.0009\n",
      "Epoch [10/10], Step [100/600], Loss: 0.0009\n",
      "Epoch [10/10], Step [200/600], Loss: 0.0385\n",
      "Epoch [10/10], Step [300/600], Loss: 0.0001\n",
      "Epoch [10/10], Step [400/600], Loss: 0.0017\n",
      "Epoch [10/10], Step [500/600], Loss: 0.0023\n",
      "Epoch [10/10], Step [600/600], Loss: 0.1634\n"
     ]
    }
   ],
   "source": [
    "from torch import optim\n",
    "\n",
    "cnn = CNN()\n",
    "print(cnn)\n",
    "loss_func = nn.CrossEntropyLoss()   \n",
    "loss_func\n",
    "optimizer = optim.Adam(cnn.parameters(), lr = 0.01)   \n",
    "optimizer\n",
    "\n",
    "from torch.autograd import Variable\n",
    "num_epochs = 10\n",
    "train_loss = []\n",
    "def train(num_epochs, cnn, loaders):\n",
    "    \n",
    "    cnn.train()\n",
    "    total_train_loss =0  \n",
    "    # Train the model\n",
    "    total_step = len(loaders['train'])\n",
    "        \n",
    "    for epoch in range(num_epochs):\n",
    "        for i, (images, labels) in enumerate(loaders['train']):\n",
    "            \n",
    "            # gives batch data, normalize x when iterate train_loader\n",
    "            b_x = Variable(images)   # batch x\n",
    "            b_y = Variable(labels)   # batch y\n",
    "            output = cnn(b_x)[0]               \n",
    "            loss = loss_func(output, b_y)\n",
    "            \n",
    "            # clear gradients for this training step   \n",
    "            optimizer.zero_grad()           \n",
    "            \n",
    "            # backpropagation, compute gradients \n",
    "            loss.backward()    \n",
    "            # apply gradients             \n",
    "            optimizer.step()                \n",
    "            total_train_loss += loss.item()\n",
    "            if (i+1) % 100 == 0:\n",
    "                print ('Epoch [{}/{}], Step [{}/{}], Loss: {:.4f}' \n",
    "                       .format(epoch + 1, num_epochs, i + 1, total_step, loss.item()))\n",
    "            pass\n",
    "        total_train_loss = total_train_loss / (i + 1)\n",
    "        train_loss.append(total_train_loss)\n",
    "        pass\n",
    "    \n",
    "    \n",
    "    pass\n",
    "train(num_epochs, cnn, loaders)"
   ]
  },
  {
   "cell_type": "markdown",
   "metadata": {
    "id": "gNQKy7a901FL"
   },
   "source": [
    "### 2.2.5: Evaluation\n",
    "\n",
    "Evaluate your model.\n",
    "  * Evaluate models with different parameters \n",
    "  * Plot score (accuracy) for each model using \"plot_scores\" function\n",
    "  * Report the score for the best model\n",
    "  * Use \"vis_predictions\" function to visualize few examples of test/validation set with the corresponding predictions\n"
   ]
  },
  {
   "cell_type": "code",
   "execution_count": null,
   "metadata": {
    "colab": {
     "base_uri": "https://localhost:8080/",
     "height": 509
    },
    "id": "cac5u-Lk01FL",
    "outputId": "ea07461e-8b4a-4fa7-ae35-2446c723de6a"
   },
   "outputs": [
    {
     "data": {
      "image/png": "[encoded data removed]",
      "text/plain": [
       "<Figure size 432x288 with 1 Axes>"
      ]
     },
     "metadata": {
      "needs_background": "light"
     },
     "output_type": "display_data"
    },
    {
     "ename": "NameError",
     "evalue": "ignored",
     "output_type": "error",
     "traceback": [
      "\u001b[0;31m---------------------------------------------------------------------------\u001b[0m",
      "\u001b[0;31mNameError\u001b[0m                                 Traceback (most recent call last)",
      "\u001b[0;32m<ipython-input-92-a57869eb7737>\u001b[0m in \u001b[0;36m<module>\u001b[0;34m()\u001b[0m\n\u001b[1;32m     11\u001b[0m \u001b[0;31m#plot accuracy\u001b[0m\u001b[0;34m\u001b[0m\u001b[0;34m\u001b[0m\u001b[0;34m\u001b[0m\u001b[0m\n\u001b[1;32m     12\u001b[0m \u001b[0;34m\u001b[0m\u001b[0m\n\u001b[0;32m---> 13\u001b[0;31m \u001b[0mplt\u001b[0m\u001b[0;34m.\u001b[0m\u001b[0mplot\u001b[0m\u001b[0;34m(\u001b[0m\u001b[0mval_acc\u001b[0m\u001b[0;34m,\u001b[0m\u001b[0;34m'-o'\u001b[0m\u001b[0;34m)\u001b[0m\u001b[0;34m\u001b[0m\u001b[0;34m\u001b[0m\u001b[0m\n\u001b[0m\u001b[1;32m     14\u001b[0m \u001b[0mplt\u001b[0m\u001b[0;34m.\u001b[0m\u001b[0mxlabel\u001b[0m\u001b[0;34m(\u001b[0m\u001b[0;34m'epoch'\u001b[0m\u001b[0;34m)\u001b[0m\u001b[0;34m\u001b[0m\u001b[0;34m\u001b[0m\u001b[0m\n\u001b[1;32m     15\u001b[0m \u001b[0mplt\u001b[0m\u001b[0;34m.\u001b[0m\u001b[0mylabel\u001b[0m\u001b[0;34m(\u001b[0m\u001b[0;34m'accuracy'\u001b[0m\u001b[0;34m)\u001b[0m\u001b[0;34m\u001b[0m\u001b[0;34m\u001b[0m\u001b[0m\n",
      "\u001b[0;31mNameError\u001b[0m: name 'val_acc' is not defined"
     ]
    }
   ],
   "source": [
    "#plot loss\n",
    "plt.plot(train_loss,'-o')\n",
    "plt.plot(val_loss,'-o')\n",
    "plt.xlabel('epoch')\n",
    "plt.ylabel('losses')\n",
    "plt.legend(['Train','Valid'])\n",
    "plt.title('Train vs Valid Losses')\n",
    " \n",
    "plt.show()\n",
    "\n"
   ]
  },
  {
   "cell_type": "code",
   "execution_count": null,
   "metadata": {
    "colab": {
     "base_uri": "https://localhost:8080/"
    },
    "id": "D68bsuVB01FL",
    "outputId": "3e4a1e44-b8c3-462b-a1e2-c8b812f56998"
   },
   "outputs": [
    {
     "name": "stdout",
     "output_type": "stream",
     "text": [
      "Test Accuracy of the model on the 10000 test images: 1.00\n",
      "Test Accuracy of the model on the 10000 test images: 0.96\n",
      "Test Accuracy of the model on the 10000 test images: 0.98\n",
      "Test Accuracy of the model on the 10000 test images: 1.00\n",
      "Test Accuracy of the model on the 10000 test images: 1.00\n",
      "Test Accuracy of the model on the 10000 test images: 0.98\n",
      "Test Accuracy of the model on the 10000 test images: 0.98\n",
      "Test Accuracy of the model on the 10000 test images: 1.00\n",
      "Test Accuracy of the model on the 10000 test images: 1.00\n",
      "Test Accuracy of the model on the 10000 test images: 0.99\n"
     ]
    }
   ],
   "source": [
    "test_loss = list()\n",
    "val_acc = list()\n",
    "def test():\n",
    "    # Test the model\n",
    "    cnn.eval()\n",
    "    total_test_loss=0\n",
    "    for epoch in range(num_epochs):\n",
    "        with torch.no_grad():\n",
    "            correct = 0\n",
    "            total = 0\n",
    "            for i,(images, labels) in enumerate(loaders['test']):\n",
    "                test_output, last_layer = cnn(images)\n",
    "                pred_y = torch.max(test_output, 1)[1].data.squeeze()\n",
    "\n",
    "                loss = loss_func(test_output, pred_y)\n",
    "                total_test_loss += loss.item()\n",
    "\n",
    "                accuracy = (pred_y == labels).sum().item() / float(labels.size(0))\n",
    "                pass\n",
    "            print('Test Accuracy of the model on the 10000 test images: %.2f' % accuracy)\n",
    "        total_test_loss = total_test_loss / (itr + 1)\n",
    "        test_loss.append(total_test_loss)\n",
    "        pass\n",
    "    pass\n",
    "test()"
   ]
  },
  {
   "cell_type": "code",
   "execution_count": null,
   "metadata": {
    "id": "9zgw4JUH01FL"
   },
   "outputs": [],
   "source": [
    "# Visualize the predictions\n",
    "# Example: vis_predictions(x_eval, y_pred, size_of_data)\n",
    "#\n",
    "#\n",
    "# ------- Your Code -------\n",
    "#"
   ]
  },
  {
   "cell_type": "markdown",
   "metadata": {
    "id": "WOT67VC801FL"
   },
   "source": [
    "### 2.2.6: Summary\n",
    "A Convolutional Neural Network is a type of neural network which is mainly used for image processing applications.We use CNN on MNIST dataset as we can get 99.06% accouracy. \n",
    "\n",
    "This model has 2 fully connected layers, ReLU activation function and max-pooling.Parameters used in this model are: in_channel is number of channels in input image, out_channe is number of chnnels in output image, size of convolving kernel is kernal_size, stride of convolution is 1 and padding is 2. forward _pass() defines the way we compute the output given these layers and functions.\n",
    "\n",
    "Summarize your findings:\n",
    " * Which hyper-parameters were important and how did they influence your results?\n",
    " Hyperparameters used were Learning rate, batch_size and number of epochs.\n",
    "LR is uaually a small number and have to be considered carefully, a high LR may never converge and\n",
    "small LR will slow down the learning. Number of epochs is important to avoid overfitting.\n",
    "Hyperparameters used are lerning rate which defines how quickly network updates the parameters.\n",
    "Learning rate it set to be 0.001\n",
    "Number of epoches which we set as 20. \n",
    "It is th enumber of times the whole training datais shown to the network while training.\n",
    "Batch size is number of sub-samples given to the networkafter which paramenter will update.\n",
    "we have set batch size to be 100\n",
    "\n",
    " * What were other design choices you faced?\n",
    " optimization method used is Adam.its an extenstion of SGD and RmsProp. it is one of the best optimizer\n",
    "amnong adaptive optimizers and is widely used. Then we train the model using Cross Entropy Loss \n",
    "loss function. Here we calucate the loss function and backpropagate to update the weights.we have used validation function to caluate the accurcy.\n",
    "\n",
    " * Any other interesting insights\n",
    " The training loss for the model founf to be 0.1634 and the accuracy is found to be 99.06%"
   ]
  },
  {
   "cell_type": "markdown",
   "metadata": {
    "id": "cgZ547yT01FM"
   },
   "source": [
    "# 2.3: Model [M3] (Neural Networks): *fill-this-in* (25 points)\n",
    "Intuition behind a simple CNN on MNIST dataset :\n",
    " \n",
    "\n",
    "*   CNN uses multilayer perceptrons to do computation.\n",
    "*   It requires little pre-processing compared to other image classification algorithms. \n",
    "*   The network can learn through filters on its own rather than manually engineering traditional algorithms. So, for the image classification tasks CNNs are the best-suited option.\n",
    "\n",
    "\n",
    "\n",
    "\n"
   ]
  },
  {
   "cell_type": "markdown",
   "metadata": {
    "id": "EFslEvfu01FM"
   },
   "source": [
    "### 2.3.1: Hyper-parameters\n",
    "\n",
    "Define hyper-parameters for your method here\n",
    "\n",
    "Hyper parameters are: \n",
    "We chose batch size of 64 for the train set, batch size of 32 for validataion and test set. Batch size is a hyperparameter that defines \n",
    "the number of samples the model looks at before updating the internal model parameter. This is mini batch gradient descent as the model \n",
    "works on small batches of data to calculate gradients and modifies the model parameters based off them.\n",
    "\n",
    "\n",
    "1.   batch_size_train = 64\n",
    "2.   batch_size_val = 32\n",
    "3.   batch_size_test = 32\n",
    "4.   no_epochs = 25\n",
    "5.   learning_rate = 0.001\n",
    "6.   dropout_prob = 0.5\n",
    "\n",
    "We used Cross Entropy loss and Adam as our optimizer"
   ]
  },
  {
   "cell_type": "code",
   "execution_count": 121,
   "metadata": {
    "id": "lzSHcgtr01FM"
   },
   "outputs": [],
   "source": [
    "# print(train_data.data.size())\n",
    "# ------- Your Code -------\n",
    "#\n",
    "#\n",
    "batch_size_train = 64\n",
    "batch_size_val = 32\n",
    "batch_size_test = 32\n",
    "no_epochs = 20\n",
    "learning_rate = 0.001\n",
    "dropout_prob = 0.5\n",
    "\n",
    "\n",
    "# You don't need the following code, if you can use data from 2.1.1.\n",
    "# You can also use torch built-in functions (torch.utils.data)\n",
    "\n"
   ]
  },
  {
   "cell_type": "markdown",
   "metadata": {
    "id": "UIkrTWQ001FM"
   },
   "source": [
    "### 2.3.2: Data Preprocessing\n"
   ]
  },
  {
   "cell_type": "code",
   "execution_count": 122,
   "metadata": {
    "id": "p13RLv7u01FM"
   },
   "outputs": [],
   "source": [
    "mnist_trainset = datasets.MNIST(root='./data', train=True, download=False, transform=transforms.Compose([transforms.ToTensor()]))\n",
    "mnist_testset = datasets.MNIST(root='./data', train=False, download=False, transform=transforms.Compose([transforms.ToTensor()]))\n",
    "\n",
    "mnist_valset, mnist_testset = torch.utils.data.random_split(mnist_testset, [int(0.9 * len(mnist_testset)), int(0.1 * len(mnist_testset))])\n",
    "\n",
    "\n",
    "\n",
    "train_dataloader = torch.utils.data.DataLoader(mnist_trainset, batch_size=batch_size_train, shuffle=True)\n",
    "val_dataloader = torch.utils.data.DataLoader(mnist_valset, batch_size=batch_size_val, shuffle=False)\n",
    "test_dataloader = torch.utils.data.DataLoader(mnist_testset, batch_size=batch_size_test, shuffle=False)\n",
    "\n"
   ]
  },
  {
   "cell_type": "markdown",
   "metadata": {
    "id": "Cp0nyS8C01FM"
   },
   "source": [
    "### 2.3.3: Model\n",
    "\n",
    "Define your model here"
   ]
  },
  {
   "cell_type": "code",
   "execution_count": 123,
   "metadata": {
    "colab": {
     "base_uri": "https://localhost:8080/"
    },
    "id": "T6kHJuH401FM",
    "outputId": "92907d54-80ed-4365-9e8b-ec70a77434bb"
   },
   "outputs": [
    {
     "name": "stdout",
     "output_type": "stream",
     "text": [
      "CNN_Model(\n",
      "  (conv_1): Conv2d(1, 32, kernel_size=(3, 3), stride=(1, 1), padding=(1, 1))\n",
      "  (conv_2): Conv2d(32, 64, kernel_size=(3, 3), stride=(1, 1), padding=(1, 1))\n",
      "  (max_pool2d): MaxPool2d(kernel_size=2, stride=2, padding=0, dilation=1, ceil_mode=False)\n",
      "  (linear_1): Linear(in_features=3136, out_features=128, bias=True)\n",
      "  (linear_2): Linear(in_features=128, out_features=10, bias=True)\n",
      "  (dropout): Dropout(p=0.5, inplace=False)\n",
      "  (relu): ReLU()\n",
      ")\n"
     ]
    }
   ],
   "source": [
    "class CNN_Model(torch.nn.Module):\n",
    "    def __init__(self):\n",
    "        super(CNN_Model, self).__init__()\n",
    "        self.conv_1 = torch.nn.Conv2d(in_channels=1, out_channels=32, kernel_size=3, stride=1, padding=1)\n",
    "        self.conv_2 = torch.nn.Conv2d(in_channels=32, out_channels=64, kernel_size=3, stride=1, padding=1)\n",
    "        self.max_pool2d = torch.nn.MaxPool2d(kernel_size=2, stride=2)\n",
    "        self.linear_1 = torch.nn.Linear(7 * 7 * 64, 128)\n",
    "        self.linear_2 = torch.nn.Linear(128, 10)\n",
    "        self.dropout = torch.nn.Dropout(dropout_prob)\n",
    "        self.relu = torch.nn.ReLU()\n",
    "\n",
    "    def forward(self, x):\n",
    "        x = self.conv_1(x)\n",
    "        x = self.relu(x)\n",
    "        x = self.max_pool2d(x)\n",
    "\n",
    "        x = self.conv_2(x)\n",
    "        x = self.relu(x)\n",
    "        x = self.max_pool2d(x)\n",
    "\n",
    "        x = x.reshape(x.size(0), -1)\n",
    "        x = self.linear_1(x)\n",
    "        x = self.relu(x)\n",
    "        x = self.dropout(x)\n",
    "        y_pred = self.linear_2(x)\n",
    "        return y_pred \n",
    "model = CNN_Model() \n",
    "print(model)      "
   ]
  },
  {
   "cell_type": "code",
   "execution_count": 124,
   "metadata": {
    "colab": {
     "base_uri": "https://localhost:8080/"
    },
    "id": "0bFy-F6ArJ4Z",
    "outputId": "b337dc05-8144-4869-8407-e828c29404e7"
   },
   "outputs": [
    {
     "data": {
      "text/plain": [
       "Adam (\n",
       "Parameter Group 0\n",
       "    amsgrad: False\n",
       "    betas: (0.9, 0.999)\n",
       "    eps: 1e-08\n",
       "    lr: 0.001\n",
       "    weight_decay: 0\n",
       ")"
      ]
     },
     "execution_count": 124,
     "metadata": {},
     "output_type": "execute_result"
    }
   ],
   "source": [
    "criterion = torch.nn.CrossEntropyLoss()\n",
    "optimizer = optim.Adam(model.parameters(), lr= learning_rate)\n",
    "optimizer"
   ]
  },
  {
   "cell_type": "markdown",
   "metadata": {
    "id": "jhzlip-t01FM"
   },
   "source": [
    "### 2.2.4: Fit Model\n"
   ]
  },
  {
   "cell_type": "code",
   "execution_count": null,
   "metadata": {
    "colab": {
     "base_uri": "https://localhost:8080/",
     "height": 1000
    },
    "id": "ARJe7dZM01FM",
    "outputId": "e8df53ae-0309-4748-d4af-82a543cd7de1"
   },
   "outputs": [
    {
     "name": "stdout",
     "output_type": "stream",
     "text": [
      "\n",
      "Epoch: 1/20, Train Loss: 0.26678754, Val Loss: 0.05820886, Val Accuracy: 0.98100000\n",
      "Saving the model state dictionary for Epoch: 1 with Validation loss: 0.05820886\n",
      "\n",
      "Epoch: 2/20, Train Loss: 0.09456801, Val Loss: 0.03740114, Val Accuracy: 0.98822222\n",
      "Saving the model state dictionary for Epoch: 2 with Validation loss: 0.03740114\n",
      "\n",
      "Epoch: 3/20, Train Loss: 0.07460322, Val Loss: 0.03251990, Val Accuracy: 0.98811111\n",
      "Saving the model state dictionary for Epoch: 3 with Validation loss: 0.03251990\n",
      "\n",
      "Epoch: 4/20, Train Loss: 0.06124362, Val Loss: 0.02565572, Val Accuracy: 0.99088889\n",
      "Saving the model state dictionary for Epoch: 4 with Validation loss: 0.02565572\n",
      "\n",
      "Epoch: 5/20, Train Loss: 0.05188759, Val Loss: 0.02667388, Val Accuracy: 0.99111111\n",
      "\n",
      "Epoch: 6/20, Train Loss: 0.04302232, Val Loss: 0.02438886, Val Accuracy: 0.99133333\n",
      "Saving the model state dictionary for Epoch: 6 with Validation loss: 0.02438886\n",
      "\n",
      "Epoch: 7/20, Train Loss: 0.03766435, Val Loss: 0.02443353, Val Accuracy: 0.99211111\n",
      "\n",
      "Epoch: 8/20, Train Loss: 0.03395671, Val Loss: 0.02236332, Val Accuracy: 0.99200000\n",
      "Saving the model state dictionary for Epoch: 8 with Validation loss: 0.02236332\n",
      "\n",
      "Epoch: 9/20, Train Loss: 0.03033313, Val Loss: 0.02303454, Val Accuracy: 0.99244444\n",
      "\n",
      "Epoch: 10/20, Train Loss: 0.02805786, Val Loss: 0.02308134, Val Accuracy: 0.99255556\n",
      "\n",
      "Epoch: 11/20, Train Loss: 0.02449692, Val Loss: 0.02133253, Val Accuracy: 0.99333333\n",
      "Saving the model state dictionary for Epoch: 11 with Validation loss: 0.02133253\n",
      "\n",
      "Epoch: 12/20, Train Loss: 0.02268153, Val Loss: 0.02364669, Val Accuracy: 0.99311111\n",
      "\n",
      "Epoch: 13/20, Train Loss: 0.01984159, Val Loss: 0.02501116, Val Accuracy: 0.99355556\n",
      "\n",
      "Epoch: 14/20, Train Loss: 0.01969652, Val Loss: 0.02507890, Val Accuracy: 0.99255556\n",
      "\n",
      "Epoch: 15/20, Train Loss: 0.01796698, Val Loss: 0.02514402, Val Accuracy: 0.99244444\n",
      "\n",
      "Epoch: 16/20, Train Loss: 0.01811692, Val Loss: 0.02532601, Val Accuracy: 0.99244444\n",
      "\n",
      "Epoch: 17/20, Train Loss: 0.01741521, Val Loss: 0.02318340, Val Accuracy: 0.99255556\n",
      "\n",
      "Epoch: 18/20, Train Loss: 0.01467287, Val Loss: 0.02851086, Val Accuracy: 0.99344444\n",
      "\n",
      "Epoch: 19/20, Train Loss: 0.01375327, Val Loss: 0.02658668, Val Accuracy: 0.99333333\n",
      "\n",
      "Epoch: 20/20, Train Loss: 0.01523962, Val Loss: 0.02714477, Val Accuracy: 0.99333333\n"
     ]
    },
    {
     "data": {
      "image/png": "[encoded data removed]",
      "text/plain": [
       "<Figure size 1440x720 with 1 Axes>"
      ]
     },
     "metadata": {
      "needs_background": "light"
     },
     "output_type": "display_data"
    },
    {
     "data": {
      "image/png": "[encoded data removed]",
      "text/plain": [
       "<Figure size 720x720 with 1 Axes>"
      ]
     },
     "metadata": {
      "needs_background": "light"
     },
     "output_type": "display_data"
    }
   ],
   "source": [
    "import matplotlib.pyplot as plt\n",
    "import numpy as np\n",
    "train_loss = list()\n",
    "val_loss = list()\n",
    "val_accuracy = list()\n",
    "best_val_loss = 1\n",
    "for epoch in range(no_epochs):\n",
    "  \n",
    "    total_train_loss = 0\n",
    "    total_val_loss = 0\n",
    "\n",
    "    model.train()\n",
    "    # training\n",
    "    for itr, (image, label) in enumerate(train_dataloader):\n",
    "        optimizer.zero_grad()\n",
    "\n",
    "        pred = model(image)\n",
    "\n",
    "        loss = criterion(pred, label)\n",
    "        total_train_loss += loss.item()\n",
    "\n",
    "        loss.backward()\n",
    "        optimizer.step()\n",
    "\n",
    "    total_train_loss = total_train_loss / (itr + 1)\n",
    "    train_loss.append(total_train_loss)\n",
    "    \n",
    "    # validation\n",
    "    model.eval()\n",
    "    total = 0\n",
    "    for itr, (image, label) in enumerate(val_dataloader):\n",
    "        pred = model(image)\n",
    "\n",
    "        loss = criterion(pred, label)\n",
    "        total_val_loss += loss.item()\n",
    "\n",
    "        pred = torch.nn.functional.softmax(pred, dim=1)\n",
    "        for i, p in enumerate(pred):\n",
    "            if label[i] == torch.max(p.data, 0)[1]:\n",
    "                total = total + 1\n",
    "\n",
    "\n",
    "    accuracy = total / len(mnist_valset)\n",
    "\n",
    "    total_val_loss = total_val_loss / (itr + 1)\n",
    "    val_loss.append(total_val_loss)\n",
    "    val_accuracy.append(accuracy)\n",
    "    print('\\nEpoch: {}/{}, Train Loss: {:.8f}, Val Loss: {:.8f}, Val Accuracy: {:.8f}'.format(epoch + 1, no_epochs, total_train_loss, total_val_loss, accuracy))\n",
    "\n",
    "    if total_val_loss < best_val_loss:\n",
    "        best_val_loss = total_val_loss\n",
    "        print(\"Saving the model state Epoch: {} with Validation loss: {:.8f}\".format(epoch + 1, total_val_loss))\n",
    "# Save your model using torch.save()\n",
    "        torch.save(model.state_dict(), \"model.dth\")\n"
   ]
  },
  {
   "cell_type": "markdown",
   "metadata": {
    "id": "aISdfCpb01FN"
   },
   "source": [
    "### 2.2.5: Evaluation\n",
    "\n",
    "Evaluate your model.\n",
    "\n",
    "  * Loss curves: Plot epoch (# passes over training data) and loss\n",
    "  * Accuracy curves: Plot epoch and accuracy over val/test set\n",
    "  * Final numbers: Report final accuracy numbers for your model"
   ]
  },
  {
   "cell_type": "code",
   "execution_count": null,
   "metadata": {
    "colab": {
     "base_uri": "https://localhost:8080/",
     "height": 503
    },
    "id": "urtpEDvx01FN",
    "outputId": "99510d57-4d04-4cd1-dddc-30ca7bffa28c"
   },
   "outputs": [
    {
     "data": {
      "image/png": "[encoded data removed]",
      "text/plain": [
       "<Figure size 1440x720 with 1 Axes>"
      ]
     },
     "metadata": {
      "needs_background": "light"
     },
     "output_type": "display_data"
    }
   ],
   "source": [
    "# Here plot epoch (# passes over training data) and loss\n",
    "#\n",
    "# ------- Your Code -------\n",
    "fig=plt.figure(figsize=(20, 10))\n",
    "plt.plot(np.arange(1, no_epochs+1), train_loss, label=\"Train loss\")\n",
    "plt.plot(np.arange(1, no_epochs+1), val_loss, label=\"Validation loss\")\n",
    "plt.xlabel('Loss')\n",
    "plt.ylabel('Epochs')\n",
    "plt.title(\"Loss Plots\")\n",
    "plt.legend(loc='upper right')\n",
    "plt.savefig('losses.png')\n",
    "\n"
   ]
  },
  {
   "cell_type": "code",
   "execution_count": null,
   "metadata": {
    "colab": {
     "base_uri": "https://localhost:8080/",
     "height": 621
    },
    "id": "bAiMSqqs01FN",
    "outputId": "3af9e814-4cc2-42a6-ea83-568183711a95"
   },
   "outputs": [
    {
     "data": {
      "image/png": "[encoded data removed]",
      "text/plain": [
       "<Figure size 720x720 with 1 Axes>"
      ]
     },
     "metadata": {
      "needs_background": "light"
     },
     "output_type": "display_data"
    }
   ],
   "source": [
    "# Here plot epoch and accuracy over val/test set\n",
    "#\n",
    "# ------- Your Code -------\n",
    "#\n",
    "fig2=plt.figure(figsize=(10, 10))\n",
    "plt.plot(np.arange(1, no_epochs+1), val_accuracy, label=\"Validation accuracy\")\n",
    "plt.xlabel('Val Accuracy')\n",
    "plt.ylabel('Epochs')\n",
    "plt.title(\"Val Accuracy Plots\")\n",
    "plt.legend(loc='upper right')\n",
    "# plt.show()\n",
    "plt.savefig('val_accuracy.png')"
   ]
  },
  {
   "cell_type": "code",
   "execution_count": 128,
   "metadata": {
    "colab": {
     "base_uri": "https://localhost:8080/"
    },
    "id": "7lJCrHt7D2GC",
    "outputId": "cfa58530-4de1-4f13-ac25-654066dd4cf3"
   },
   "outputs": [
    {
     "data": {
      "text/plain": [
       "CNN_Model(\n",
       "  (conv_1): Conv2d(1, 32, kernel_size=(3, 3), stride=(1, 1), padding=(1, 1))\n",
       "  (conv_2): Conv2d(32, 64, kernel_size=(3, 3), stride=(1, 1), padding=(1, 1))\n",
       "  (max_pool2d): MaxPool2d(kernel_size=2, stride=2, padding=0, dilation=1, ceil_mode=False)\n",
       "  (linear_1): Linear(in_features=3136, out_features=128, bias=True)\n",
       "  (linear_2): Linear(in_features=128, out_features=10, bias=True)\n",
       "  (dropout): Dropout(p=0.5, inplace=False)\n",
       "  (relu): ReLU()\n",
       ")"
      ]
     },
     "execution_count": 128,
     "metadata": {},
     "output_type": "execute_result"
    }
   ],
   "source": [
    "# Example:\n",
    "# net = Net()\n",
    "# net.load_state_dict(torch.load(\"PATH\"))\n",
    "# test model\n",
    "model.load_state_dict(torch.load(\"model.dth\"))\n",
    "model.eval()"
   ]
  },
  {
   "cell_type": "code",
   "execution_count": 129,
   "metadata": {
    "colab": {
     "base_uri": "https://localhost:8080/"
    },
    "id": "FzQvt7IF01FN",
    "outputId": "1546be57-aa56-407a-ddb8-f3d64beaad61"
   },
   "outputs": [
    {
     "name": "stdout",
     "output_type": "stream",
     "text": [
      "Model's state_dict parameters:\n",
      "conv_1.weight \t torch.Size([32, 1, 3, 3])\n",
      "conv_1.bias \t torch.Size([32])\n",
      "conv_2.weight \t torch.Size([64, 32, 3, 3])\n",
      "conv_2.bias \t torch.Size([64])\n",
      "linear_1.weight \t torch.Size([128, 3136])\n",
      "linear_1.bias \t torch.Size([128])\n",
      "linear_2.weight \t torch.Size([10, 128])\n",
      "linear_2.bias \t torch.Size([10])\n",
      "Optimizer's state_dict parameter:\n",
      "state \t {}\n",
      "param_groups \t [{'lr': 0.001, 'betas': (0.9, 0.999), 'eps': 1e-08, 'weight_decay': 0, 'amsgrad': False, 'params': [0, 1, 2, 3, 4, 5, 6, 7]}]\n"
     ]
    }
   ],
   "source": [
    "# Here report the score for the best model\n",
    "#\n",
    "# ------- Your Code -------\n",
    "# Print model's state_dict\n",
    "print(\"Model's state_dict parameters:\")\n",
    "for param_tensor in model.state_dict():\n",
    "    print(param_tensor, \"\\t\", model.state_dict()[param_tensor].size())\n",
    "\n",
    "# Print optimizer's state_dict\n",
    "print(\"Optimizer's state_dict parameter:\")\n",
    "for var_name in optimizer.state_dict():\n",
    "    print(var_name, \"\\t\", optimizer.state_dict()[var_name])"
   ]
  },
  {
   "cell_type": "code",
   "execution_count": null,
   "metadata": {
    "id": "LTZJPZIP01FN"
   },
   "outputs": [],
   "source": [
    "# ------- Your Code -------\n",
    "# Example:\n",
    "# net = Net()\n",
    "# net.load_state_dict(torch.load(\"PATH\"))\n",
    "# test model\n",
    "\n",
    "\n",
    "results = list()\n",
    "correct = 0\n",
    "for itr, (image, label) in enumerate(test_dataloader):\n",
    "    pred = model(image)\n",
    "    pred = torch.nn.functional.softmax(pred, dim=1)\n",
    "    #img = Variable(img)\n",
    "    for i, p in enumerate(pred):\n",
    "        if label[i] == torch.max(p.data, 0)[1]:\n",
    "          total = total + 1\n",
    "          results.append((image, torch.max(p.data, 0)[1]))\n",
    "\n",
    "test_accuracy = correct / (itr + 1)\n",
    "print('Test accuracy {:.8f}'.format(test_accuracy))\n",
    "\n",
    "\n"
   ]
  },
  {
   "cell_type": "code",
   "execution_count": 130,
   "metadata": {
    "colab": {
     "base_uri": "https://localhost:8080/",
     "height": 457
    },
    "id": "RAcVb-iK01FN",
    "outputId": "36b57491-2e76-418d-a7f3-6f50b155a45a"
   },
   "outputs": [
    {
     "data": {
      "image/png": "[encoded data removed]",
      "text/plain": [
       "<Figure size 1440x720 with 10 Axes>"
      ]
     },
     "metadata": {
      "needs_background": "light"
     },
     "output_type": "display_data"
    }
   ],
   "source": [
    "# Visualize the predictions\n",
    "# Example: vis_predictions(x_eval, y_pred, size_of_data)\n",
    "#\n",
    "# ------- Your Code -------\n",
    "# visualize data\n",
    "fig3=plt.figure(figsize=(20, 10))\n",
    "for i in range(1, 11):\n",
    "  fig3.add_subplot(2, 5, i)\n",
    "  img = results[i][0].numpy()[0]\n",
    "  img = np.transpose(img, (1,2,0))\n",
    "  #show the image\n",
    "  plt.imshow(np.squeeze(img), cmap = 'gray')\n",
    "  plt.title(results[i][1].item())\n",
    "plt.show()\n"
   ]
  },
  {
   "cell_type": "markdown",
   "metadata": {
    "id": "SPMall2f01FN"
   },
   "source": [
    "### 2.3.6: Summary\n",
    "\n",
    "Summarize your findings:\n",
    " * Which hyper-parameters were important and how did they influence your results?\n",
    "\n",
    "\n",
    "1.   Activation function - Used ReLu as it is less computationally expensive than tanh and mathematically simplers. \n",
    "2.  learning rate of 0.001 \n",
    "3. Filter size of 3*3 is used in the model as smaller filters collect as much local information as possible, bigger filters represent more global information. \n",
    "4. Layers of format Conv-Pool-Conv-Pool (2x) times was followed with channel increasing from 32–64–128.\n",
    "5. Dropout was also intrduced to avoid over-fitting\n",
    "\n",
    " * What were other design choices you faced?\n",
    "2-D covolution Neural Network for MNIST digit recognition.\n",
    "Architecture : 2 convolution layer followed by pooling layer, a fully connected layer, and softmax layer respctively.\n",
    "**Hyperparamter:**\n",
    "num_epochs = 10\n",
    "batch_size = 100\n",
    "\n",
    "We chose batch size of 100 each for the train set and test set.\n",
    "\n",
    "\n",
    "We have the possibility to use different learning rates  and also increase the epochs, but for MNIST dataset 25 epochs were suffiecient and further iterations did not yield any better results.\n",
    "\n",
    "Training was relatively faster in CNN models. For bigger datasets, gpu can be used to accelerate parallel computation.\n",
    "\n",
    "We can also use various optimizers to see the change in accuracy but we preferred to use classic ADAM.\n",
    " * Any other interesting insights?\n",
    " For 10 epochs we achieved **training loss of 0.1634 **and test accuracy of 99 percent. "
   ]
  },
  {
   "cell_type": "markdown",
   "metadata": {
    "id": "Ex3qQp3JolD1"
   },
   "source": [
    "# 3. Summary (20 points)\n",
    "\n",
    "Enter your final summary here.\n",
    "\n",
    "You should now compare performance  on the three models [M1], [M2] and [M3]. Present this in a tabular format and/or using plots.\n",
    "\n",
    "Which model do you recommend to perform digit classification and why?\n",
    "\n",
    "Feel free to discuss other insightful observations."
   ]
  },
  {
   "cell_type": "code",
   "execution_count": 132,
   "metadata": {
    "colab": {
     "base_uri": "https://localhost:8080/",
     "height": 567
    },
    "id": "pa6rPT53LUW8",
    "outputId": "5bea6d40-29e3-44a3-e62e-56bd02860da8"
   },
   "outputs": [
    {
     "name": "stderr",
     "output_type": "stream",
     "text": [
      "/usr/local/lib/python3.7/dist-packages/seaborn/_decorators.py:43: FutureWarning: Pass the following variables as keyword args: x, y. From version 0.12, the only valid positional argument will be `data`, and passing other arguments without an explicit keyword will result in an error or misinterpretation.\n",
      "  FutureWarning\n"
     ]
    },
    {
     "data": {
      "image/png": "[encoded data removed]",
      "text/plain": [
       "<Figure size 720x576 with 1 Axes>"
      ]
     },
     "metadata": {},
     "output_type": "display_data"
    }
   ],
   "source": [
    "sns.set_style('whitegrid')\n",
    "ax = sns.barplot(['SVM-rbf','CNN-1','CNN-2'],[98.14,99.00,99.13]);\n",
    "ax.set(title=\" Performance Comparison\", xlabel=\"Neural/NonNeural Model\", ylabel=\"Accuracy\",ylim=(95,100));"
   ]
  },
  {
   "cell_type": "markdown",
   "metadata": {
    "id": "CdX4R1HoKKQB"
   },
   "source": [
    "1. Model 2.3 M3 performed the best with just simple CONV-RELU(2x) layers. Especially the training accuracy was almost 99%. However, the testing initially showed good results with the saved model model.dth, which later we lost due to which we could see significant dip in test performance. \n",
    "\n",
    "2. Model 2.2 M2 performed best  in performance compared to M3 and has an equall precision over train, val and test dataset.\n",
    "\n",
    "3. SVM with lesser hyperparameter tuning intensive is also a good choice for this dataset and almost acheived 98 % test accuracy and is our preferable model in this case.ALthough training train was bit more, we could reduce the time effectively by applying PCA and then rbf kernel on the data.\n"
   ]
  }
 ],
 "metadata": {
  "colab": {
   "collapsed_sections": [],
   "name": "Turing_AMT_2021_10_29_Task_01.ipynb",
   "provenance": []
  },
  "kernelspec": {
   "display_name": "Python 3",
   "language": "python",
   "name": "python3"
  },
  "language_info": {
   "codemirror_mode": {
    "name": "ipython",
    "version": 3
   },
   "file_extension": ".py",
   "mimetype": "text/x-python",
   "name": "python",
   "nbconvert_exporter": "python",
   "pygments_lexer": "ipython3",
   "version": "3.8.3"
  }
 },
 "nbformat": 4,
 "nbformat_minor": 1
}
